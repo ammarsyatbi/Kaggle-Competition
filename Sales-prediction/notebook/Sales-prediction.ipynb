{
 "cells": [
  {
   "cell_type": "code",
   "execution_count": null,
   "metadata": {},
   "outputs": [],
   "source": [
    "import pandas as pd\n",
    "import numpy as np\n",
    "\n",
    "import matplotlib.pyplot as plt\n",
    "%matplotlib inline\n",
    "\n",
    "import seaborn as sns\n",
    "sns.set()\n",
    "\n",
    "from datetime import datetime\n"
   ]
  },
  {
   "cell_type": "code",
   "execution_count": null,
   "metadata": {},
   "outputs": [],
   "source": [
    "category = pd.read_csv('../data/item_categories.csv')\n",
    "items = pd.read_csv('../data/items.csv')\n",
    "shops = pd.read_csv('../data/shops.csv')\n",
    "train = pd.read_csv('../data/sales_train_v2.csv')\n",
    "test = pd.read_csv('../data/test.csv')\n",
    "sample = pd.read_csv('../data/sample_submission.csv')"
   ]
  },
  {
   "cell_type": "code",
   "execution_count": null,
   "metadata": {},
   "outputs": [],
   "source": [
    "sample.head()"
   ]
  },
  {
   "cell_type": "code",
   "execution_count": null,
   "metadata": {},
   "outputs": [],
   "source": [
    "train.head()"
   ]
  },
  {
   "cell_type": "code",
   "execution_count": null,
   "metadata": {},
   "outputs": [],
   "source": [
    "test.head()"
   ]
  },
  {
   "cell_type": "code",
   "execution_count": null,
   "metadata": {},
   "outputs": [],
   "source": [
    "category.head(3)"
   ]
  },
  {
   "cell_type": "code",
   "execution_count": null,
   "metadata": {},
   "outputs": [],
   "source": [
    "items.head(3)"
   ]
  },
  {
   "cell_type": "code",
   "execution_count": null,
   "metadata": {},
   "outputs": [],
   "source": [
    "shops.head(3)"
   ]
  },
  {
   "cell_type": "code",
   "execution_count": null,
   "metadata": {},
   "outputs": [],
   "source": [
    "category_item = items.join(category.set_index('item_category_id'), on='item_category_id')"
   ]
  },
  {
   "cell_type": "code",
   "execution_count": null,
   "metadata": {},
   "outputs": [],
   "source": [
    "category_item.head()"
   ]
  },
  {
   "cell_type": "code",
   "execution_count": null,
   "metadata": {},
   "outputs": [],
   "source": [
    "print(\"\\t\\trows\\tcolumns\")\n",
    "print(f\"Train\\t\\t{train.shape[0]}\\t{train.shape[1]}\")\n",
    "print(f\"Test\\t\\t{test.shape[0]}\\t{test.shape[1]}\")\n",
    "print(f\"Items\\t\\t{items.shape[0]}\\t{items.shape[1]}\")\n",
    "print(f\"Shops\\t\\t{shops.shape[0]}\\t{shops.shape[1]}\")\n",
    "print(f\"Category\\t{category.shape[0]}\\t{category.shape[1]}\")"
   ]
  },
  {
   "cell_type": "code",
   "execution_count": null,
   "metadata": {},
   "outputs": [],
   "source": [
    "item_counts = category_item.item_category_name.value_counts().sort_values()\n",
    "x = item_counts.index\n",
    "y = item_counts.values\n",
    "plt.figure(figsize=(10,20))\n",
    "plt.barh(x,y)\n",
    "plt.ylabel('Item')\n",
    "plt.xlabel('Frequency')\n",
    "\n",
    "for k,j in zip(x,y):\n",
    "    plt.annotate(str(j), xy=(j, k), va='center')\n",
    "\n",
    "plt.show()"
   ]
  },
  {
   "cell_type": "code",
   "execution_count": null,
   "metadata": {},
   "outputs": [],
   "source": [
    "#Ranking\n",
    "cat_ranks = sorted(list(set(item_counts.values)))\n",
    "print(cat_ranks)"
   ]
  },
  {
   "cell_type": "code",
   "execution_count": 235,
   "metadata": {},
   "outputs": [
    {
     "data": {
      "text/plain": [
       "{'Игровые консоли - PS2': {'rank': 0, 'value': 1},\n",
       " 'Книги - Познавательная литература': {'rank': 0, 'value': 1},\n",
       " 'Служебные': {'rank': 0, 'value': 1},\n",
       " 'Книги - Открытки': {'rank': 1, 'value': 2},\n",
       " 'Аксессуары - PS2': {'rank': 1, 'value': 2},\n",
       " 'Игры Android - Цифра': {'rank': 2, 'value': 3},\n",
       " 'Книги - Художественная литература': {'rank': 2, 'value': 3},\n",
       " 'Книги - Путеводители': {'rank': 2, 'value': 3},\n",
       " 'Карты оплаты - PSN': {'rank': 3, 'value': 4},\n",
       " 'PC - Гарнитуры/Наушники': {'rank': 3, 'value': 4},\n",
       " 'Книги - Компьютерная литература': {'rank': 4, 'value': 5},\n",
       " 'Карты оплаты - Windows (Цифра)': {'rank': 5, 'value': 6},\n",
       " 'Служебные - Билеты': {'rank': 5, 'value': 6},\n",
       " 'Карты оплаты (Кино, Музыка, Игры)': {'rank': 5, 'value': 6},\n",
       " 'Игры - PS2': {'rank': 5, 'value': 6},\n",
       " 'Игровые консоли - PSP': {'rank': 5, 'value': 6},\n",
       " 'Подарки - Сумки, Альбомы, Коврики д/мыши': {'rank': 5, 'value': 6},\n",
       " 'Игровые консоли - Прочие': {'rank': 6, 'value': 7},\n",
       " 'Чистые носители (шпиль)': {'rank': 6, 'value': 7},\n",
       " 'Кино - Blu-Ray 4K': {'rank': 6, 'value': 7},\n",
       " 'Игры MAC - Цифра': {'rank': 7, 'value': 8},\n",
       " 'Программы - MAC (Цифра)': {'rank': 7, 'value': 8},\n",
       " 'Чистые носители (штучные)': {'rank': 7, 'value': 8},\n",
       " 'Карты оплаты - Live! (Цифра)': {'rank': 7, 'value': 8},\n",
       " 'Билеты (Цифра)': {'rank': 8, 'value': 9},\n",
       " 'Доставка товара': {'rank': 9, 'value': 12},\n",
       " 'Книги - Бизнес литература': {'rank': 9, 'value': 12},\n",
       " 'Книги - Артбуки, энциклопедии': {'rank': 9, 'value': 12},\n",
       " 'Элементы питания': {'rank': 10, 'value': 15},\n",
       " 'Аксессуары - PSP': {'rank': 10, 'value': 15},\n",
       " 'Карты оплаты - Live!': {'rank': 11, 'value': 18},\n",
       " 'Игровые консоли - PSVita': {'rank': 11, 'value': 18},\n",
       " 'Игровые консоли - XBOX ONE': {'rank': 12, 'value': 20},\n",
       " 'Игровые консоли - PS4': {'rank': 12, 'value': 20},\n",
       " 'Аксессуары - XBOX ONE': {'rank': 13, 'value': 24},\n",
       " 'Подарки - Сертификаты, услуги': {'rank': 14, 'value': 27},\n",
       " 'Аксессуары - PSVita': {'rank': 15, 'value': 29},\n",
       " 'Аксессуары - PS4': {'rank': 16, 'value': 34},\n",
       " 'Программы - 1С:Предприятие 8': {'rank': 17, 'value': 36},\n",
       " 'Игровые консоли - XBOX 360': {'rank': 18, 'value': 37},\n",
       " 'Аксессуары - XBOX 360': {'rank': 19, 'value': 40},\n",
       " 'Игровые консоли - PS3': {'rank': 20, 'value': 41},\n",
       " 'Игры PC - Коллекционные издания': {'rank': 21, 'value': 46},\n",
       " 'Музыка - Подарочные издания': {'rank': 22, 'value': 52},\n",
       " 'Аксессуары - PS3': {'rank': 23, 'value': 75},\n",
       " 'Игры - PSVita': {'rank': 24, 'value': 79},\n",
       " 'Книги - Цифра': {'rank': 25, 'value': 90},\n",
       " 'Игры - XBOX ONE': {'rank': 26, 'value': 123},\n",
       " 'Игры - PSP': {'rank': 27, 'value': 125},\n",
       " 'Игры - Аксессуары для игр': {'rank': 28, 'value': 140},\n",
       " 'Книги - Комиксы, манга': {'rank': 29, 'value': 151},\n",
       " 'Книги - Аудиокниги (Цифра)': {'rank': 30, 'value': 161},\n",
       " 'Подарки - Настольные игры (компактные)': {'rank': 31, 'value': 163},\n",
       " 'Книги - Методические материалы 1С': {'rank': 32, 'value': 167},\n",
       " 'Игры - PS4': {'rank': 33, 'value': 175},\n",
       " 'Подарки - Открытки, наклейки': {'rank': 34, 'value': 178},\n",
       " 'Книги - Аудиокниги 1С': {'rank': 35, 'value': 195},\n",
       " 'Программы - Обучающие': {'rank': 36, 'value': 220},\n",
       " 'Подарки - Сувениры (в навеску)': {'rank': 37, 'value': 228},\n",
       " 'Игры PC - Дополнительные издания': {'rank': 38, 'value': 240},\n",
       " 'Программы - Для дома и офиса': {'rank': 39, 'value': 277},\n",
       " 'Программы - Обучающие (Цифра)': {'rank': 40, 'value': 278},\n",
       " 'Подарки - Настольные игры': {'rank': 41, 'value': 290},\n",
       " 'Музыка - Музыкальное видео': {'rank': 42, 'value': 294},\n",
       " 'Подарки - Гаджеты, роботы, спорт': {'rank': 43, 'value': 295},\n",
       " 'Кино - Blu-Ray 3D': {'rank': 44, 'value': 310},\n",
       " 'Подарки - Сувениры': {'rank': 45, 'value': 317},\n",
       " 'Кино - Коллекционное': {'rank': 46, 'value': 332},\n",
       " 'Программы - Для дома и офиса (Цифра)': {'rank': 47, 'value': 333},\n",
       " 'Подарки - Мягкие игрушки': {'rank': 48, 'value': 366},\n",
       " 'Подарки - Развитие': {'rank': 49, 'value': 394},\n",
       " 'Музыка - CD фирменного производства': {'rank': 50, 'value': 397},\n",
       " 'Музыка - MP3': {'rank': 51, 'value': 427},\n",
       " 'Книги - Аудиокниги': {'rank': 52, 'value': 471},\n",
       " 'Игры - XBOX 360': {'rank': 53, 'value': 501},\n",
       " 'Подарки - Атрибутика': {'rank': 54, 'value': 598},\n",
       " 'Игры - PS3': {'rank': 55, 'value': 628},\n",
       " 'Подарки - Фигурки': {'rank': 56, 'value': 666},\n",
       " 'Игры PC - Стандартные издания': {'rank': 57, 'value': 756},\n",
       " 'Музыка - Винил': {'rank': 58, 'value': 790},\n",
       " 'Игры PC - Цифра': {'rank': 59, 'value': 1125},\n",
       " 'Кино - Blu-Ray': {'rank': 60, 'value': 1780},\n",
       " 'Музыка - CD локального производства': {'rank': 61, 'value': 2365},\n",
       " 'Кино - DVD': {'rank': 62, 'value': 5035}}"
      ]
     },
     "execution_count": 235,
     "metadata": {},
     "output_type": "execute_result"
    }
   ],
   "source": [
    "cat_rank = {}\n",
    "for k,v in item_counts.items():\n",
    "    cat_rank[k] = {\n",
    "        'rank' : cat_ranks.index(v),\n",
    "        'value' : v\n",
    "    }\n",
    "cat_rank"
   ]
  },
  {
   "cell_type": "code",
   "execution_count": null,
   "metadata": {},
   "outputs": [],
   "source": [
    "shop_item = train.join(shops.set_index('shop_id'), on='shop_id')"
   ]
  },
  {
   "cell_type": "code",
   "execution_count": null,
   "metadata": {},
   "outputs": [],
   "source": [
    "shop_sales = shop_item.shop_name.value_counts().sort_values()\n",
    "x = shop_sales.index\n",
    "y = shop_sales.values\n",
    "plt.figure(figsize=(10,20))\n",
    "plt.barh(x,y, color='#b71540')\n",
    "plt.ylabel('Shops')\n",
    "plt.xlabel('Item sold')\n",
    "\n",
    "for k,j in zip(x,y):\n",
    "    plt.annotate(str(j), xy=(j, k), va='center')\n",
    "\n",
    "plt.show()"
   ]
  },
  {
   "cell_type": "code",
   "execution_count": null,
   "metadata": {},
   "outputs": [],
   "source": [
    "#Ranking\n",
    "shop_ranks = sorted(list(set(shop_sales.values)))\n",
    "print(shop_ranks)"
   ]
  },
  {
   "cell_type": "code",
   "execution_count": 233,
   "metadata": {},
   "outputs": [
    {
     "data": {
      "text/plain": [
       "{'Новосибирск ТРЦ \"Галерея Новосибирск\"': {'rank': 0, 'value': 306},\n",
       " 'Жуковский ул. Чкалова 39м²': {'rank': 1, 'value': 499},\n",
       " 'Москва \"Распродажа\"': {'rank': 2, 'value': 1792},\n",
       " 'Воронеж ТРЦ Сити-Парк \"Град\"': {'rank': 3, 'value': 3412},\n",
       " 'Выездная Торговля': {'rank': 4, 'value': 3751},\n",
       " 'РостовНаДону ТРК \"Мегацентр Горизонт\" Островной': {'rank': 5, 'value': 4257},\n",
       " 'Мытищи ТРК \"XL-3\"': {'rank': 6, 'value': 5027},\n",
       " '!Якутск ТЦ \"Центральный\" фран': {'rank': 7, 'value': 5678},\n",
       " 'Н.Новгород ТРЦ \"РИО\"': {'rank': 8, 'value': 5752},\n",
       " 'Москва ТК \"Буденовский\" (пав.А2)': {'rank': 9, 'value': 6963},\n",
       " 'Москва ТЦ \"Серебряный Дом\"': {'rank': 10, 'value': 7947},\n",
       " '!Якутск Орджоникидзе, 56 фран': {'rank': 11, 'value': 9857},\n",
       " 'РостовНаДону ТРК \"Мегацентр Горизонт\"': {'rank': 12, 'value': 13440},\n",
       " 'Тюмень ТРЦ \"Кристалл\"': {'rank': 13, 'value': 15849},\n",
       " 'Казань ТЦ \"Бехетле\"': {'rank': 14, 'value': 17824},\n",
       " 'Жуковский ул. Чкалова 39м?': {'rank': 15, 'value': 21397},\n",
       " 'Томск ТРЦ \"Изумрудный Город\"': {'rank': 16, 'value': 21612},\n",
       " 'Красноярск ТЦ \"Взлетка Плаза\"': {'rank': 17, 'value': 22950},\n",
       " 'Балашиха ТРК \"Октябрь-Киномир\"': {'rank': 18, 'value': 25532},\n",
       " 'Адыгея ТЦ \"Мега\"': {'rank': 19, 'value': 25991},\n",
       " 'Интернет-магазин ЧС': {'rank': 20, 'value': 34694},\n",
       " 'Цифровой склад 1С-Онлайн': {'rank': 21, 'value': 34769},\n",
       " 'Самара ТЦ \"ПаркХаус\"': {'rank': 22, 'value': 35891},\n",
       " 'Казань ТЦ \"ПаркХаус\" II': {'rank': 23, 'value': 36979},\n",
       " 'Вологда ТРЦ \"Мармелад\"': {'rank': 24, 'value': 38179},\n",
       " 'Волжский ТЦ \"Волга Молл\"': {'rank': 25, 'value': 38242},\n",
       " 'СПб ТК \"Сенная\"': {'rank': 26, 'value': 39282},\n",
       " 'Самара ТЦ \"Мелодия\"': {'rank': 27, 'value': 39530},\n",
       " 'Новосибирск ТЦ \"Мега\"': {'rank': 28, 'value': 39638},\n",
       " 'РостовНаДону ТЦ \"Мега\"': {'rank': 29, 'value': 41967},\n",
       " 'Ярославль ТЦ \"Альтаир\"': {'rank': 30, 'value': 42108},\n",
       " 'Уфа ТК \"Центральный\"': {'rank': 31, 'value': 43502},\n",
       " 'Тюмень ТЦ \"Зеленый Берег\"': {'rank': 32, 'value': 44433},\n",
       " 'Москва Магазин С21': {'rank': 33, 'value': 45434},\n",
       " 'Омск ТЦ \"Мега\"': {'rank': 34, 'value': 46013},\n",
       " 'Москва ТЦ \"Новый век\" (Новокосино)': {'rank': 35, 'value': 49225},\n",
       " 'Москва ТЦ \"Перловский\"': {'rank': 36, 'value': 50860},\n",
       " 'Коломна ТЦ \"Рио\"': {'rank': 37, 'value': 52734},\n",
       " 'Уфа ТЦ \"Семья\" 2': {'rank': 38, 'value': 52921},\n",
       " 'Москва ТК \"Буденовский\" (пав.К7)': {'rank': 39, 'value': 53032},\n",
       " 'Красноярск ТЦ \"Июнь\"': {'rank': 40, 'value': 53227},\n",
       " 'Москва ТЦ \"Ареал\" (Беляево)': {'rank': 41, 'value': 53910},\n",
       " 'Сургут ТРЦ \"Сити Молл\"': {'rank': 42, 'value': 56695},\n",
       " 'Воронеж ТРЦ \"Максимир\"': {'rank': 43, 'value': 58076},\n",
       " 'Москва МТРЦ \"Афи Молл\"': {'rank': 44, 'value': 58133},\n",
       " 'Н.Новгород ТРЦ \"Фантастика\"': {'rank': 45, 'value': 58445},\n",
       " 'Калуга ТРЦ \"XXI век\"': {'rank': 46, 'value': 59511},\n",
       " 'Курск ТЦ \"Пушкинский\"': {'rank': 47, 'value': 63911},\n",
       " 'Тюмень ТЦ \"Гудвин\"': {'rank': 48, 'value': 65173},\n",
       " 'Сергиев Посад ТЦ \"7Я\"': {'rank': 49, 'value': 66321},\n",
       " 'Чехов ТРЦ \"Карнавал\"': {'rank': 50, 'value': 69573},\n",
       " 'Якутск ТЦ \"Центральный\"': {'rank': 51, 'value': 71441},\n",
       " 'Воронеж (Плехановская, 13)': {'rank': 52, 'value': 82663},\n",
       " 'Москва ТЦ \"МЕГА Белая Дача II\"': {'rank': 53, 'value': 105366},\n",
       " 'СПб ТК \"Невский Центр\"': {'rank': 54, 'value': 109253},\n",
       " 'Якутск Орджоникидзе, 56': {'rank': 55, 'value': 117428},\n",
       " 'Москва ТЦ \"МЕГА Теплый Стан\" II': {'rank': 56, 'value': 142234},\n",
       " 'Химки ТЦ \"Мега\"': {'rank': 57, 'value': 143480},\n",
       " 'Москва ТРК \"Атриум\"': {'rank': 58, 'value': 186104},\n",
       " 'Москва ТЦ \"Семеновский\"': {'rank': 59, 'value': 235636}}"
      ]
     },
     "execution_count": 233,
     "metadata": {},
     "output_type": "execute_result"
    }
   ],
   "source": [
    "shop_rank = {}\n",
    "for k,v in shop_sales.items():\n",
    "    shop_rank[k] = {\n",
    "        'rank': shop_ranks.index(v),\n",
    "        'value': v\n",
    "    }\n",
    "shop_rank"
   ]
  },
  {
   "cell_type": "code",
   "execution_count": 232,
   "metadata": {},
   "outputs": [
    {
     "data": {
      "text/plain": [
       "{'Новосибирск ТРЦ \"Галерея Новосибирск\"': {'rank': 0, 'value': 306},\n",
       " 'Жуковский ул. Чкалова 39м²': {'rank': 1, 'value': 499},\n",
       " 'Москва \"Распродажа\"': {'rank': 2, 'value': 1792},\n",
       " 'Воронеж ТРЦ Сити-Парк \"Град\"': {'rank': 3, 'value': 3412},\n",
       " 'Выездная Торговля': {'rank': 4, 'value': 3751},\n",
       " 'РостовНаДону ТРК \"Мегацентр Горизонт\" Островной': {'rank': 5, 'value': 4257},\n",
       " 'Мытищи ТРК \"XL-3\"': {'rank': 6, 'value': 5027},\n",
       " '!Якутск ТЦ \"Центральный\" фран': {'rank': 7, 'value': 5678},\n",
       " 'Н.Новгород ТРЦ \"РИО\"': {'rank': 8, 'value': 5752},\n",
       " 'Москва ТК \"Буденовский\" (пав.А2)': {'rank': 9, 'value': 6963},\n",
       " 'Москва ТЦ \"Серебряный Дом\"': {'rank': 10, 'value': 7947},\n",
       " '!Якутск Орджоникидзе, 56 фран': {'rank': 11, 'value': 9857},\n",
       " 'РостовНаДону ТРК \"Мегацентр Горизонт\"': {'rank': 12, 'value': 13440},\n",
       " 'Тюмень ТРЦ \"Кристалл\"': {'rank': 13, 'value': 15849},\n",
       " 'Казань ТЦ \"Бехетле\"': {'rank': 14, 'value': 17824},\n",
       " 'Жуковский ул. Чкалова 39м?': {'rank': 15, 'value': 21397},\n",
       " 'Томск ТРЦ \"Изумрудный Город\"': {'rank': 16, 'value': 21612},\n",
       " 'Красноярск ТЦ \"Взлетка Плаза\"': {'rank': 17, 'value': 22950},\n",
       " 'Балашиха ТРК \"Октябрь-Киномир\"': {'rank': 18, 'value': 25532},\n",
       " 'Адыгея ТЦ \"Мега\"': {'rank': 19, 'value': 25991},\n",
       " 'Интернет-магазин ЧС': {'rank': 20, 'value': 34694},\n",
       " 'Цифровой склад 1С-Онлайн': {'rank': 21, 'value': 34769},\n",
       " 'Самара ТЦ \"ПаркХаус\"': {'rank': 22, 'value': 35891},\n",
       " 'Казань ТЦ \"ПаркХаус\" II': {'rank': 23, 'value': 36979},\n",
       " 'Вологда ТРЦ \"Мармелад\"': {'rank': 24, 'value': 38179},\n",
       " 'Волжский ТЦ \"Волга Молл\"': {'rank': 25, 'value': 38242},\n",
       " 'СПб ТК \"Сенная\"': {'rank': 26, 'value': 39282},\n",
       " 'Самара ТЦ \"Мелодия\"': {'rank': 27, 'value': 39530},\n",
       " 'Новосибирск ТЦ \"Мега\"': {'rank': 28, 'value': 39638},\n",
       " 'РостовНаДону ТЦ \"Мега\"': {'rank': 29, 'value': 41967},\n",
       " 'Ярославль ТЦ \"Альтаир\"': {'rank': 30, 'value': 42108},\n",
       " 'Уфа ТК \"Центральный\"': {'rank': 31, 'value': 43502},\n",
       " 'Тюмень ТЦ \"Зеленый Берег\"': {'rank': 32, 'value': 44433},\n",
       " 'Москва Магазин С21': {'rank': 33, 'value': 45434},\n",
       " 'Омск ТЦ \"Мега\"': {'rank': 34, 'value': 46013},\n",
       " 'Москва ТЦ \"Новый век\" (Новокосино)': {'rank': 35, 'value': 49225},\n",
       " 'Москва ТЦ \"Перловский\"': {'rank': 36, 'value': 50860},\n",
       " 'Коломна ТЦ \"Рио\"': {'rank': 37, 'value': 52734},\n",
       " 'Уфа ТЦ \"Семья\" 2': {'rank': 38, 'value': 52921},\n",
       " 'Москва ТК \"Буденовский\" (пав.К7)': {'rank': 39, 'value': 53032},\n",
       " 'Красноярск ТЦ \"Июнь\"': {'rank': 40, 'value': 53227},\n",
       " 'Москва ТЦ \"Ареал\" (Беляево)': {'rank': 41, 'value': 53910},\n",
       " 'Сургут ТРЦ \"Сити Молл\"': {'rank': 42, 'value': 56695},\n",
       " 'Воронеж ТРЦ \"Максимир\"': {'rank': 43, 'value': 58076},\n",
       " 'Москва МТРЦ \"Афи Молл\"': {'rank': 44, 'value': 58133},\n",
       " 'Н.Новгород ТРЦ \"Фантастика\"': {'rank': 45, 'value': 58445},\n",
       " 'Калуга ТРЦ \"XXI век\"': {'rank': 46, 'value': 59511},\n",
       " 'Курск ТЦ \"Пушкинский\"': {'rank': 47, 'value': 63911},\n",
       " 'Тюмень ТЦ \"Гудвин\"': {'rank': 48, 'value': 65173},\n",
       " 'Сергиев Посад ТЦ \"7Я\"': {'rank': 49, 'value': 66321},\n",
       " 'Чехов ТРЦ \"Карнавал\"': {'rank': 50, 'value': 69573},\n",
       " 'Якутск ТЦ \"Центральный\"': {'rank': 51, 'value': 71441},\n",
       " 'Воронеж (Плехановская, 13)': {'rank': 52, 'value': 82663},\n",
       " 'Москва ТЦ \"МЕГА Белая Дача II\"': {'rank': 53, 'value': 105366},\n",
       " 'СПб ТК \"Невский Центр\"': {'rank': 54, 'value': 109253},\n",
       " 'Якутск Орджоникидзе, 56': {'rank': 55, 'value': 117428},\n",
       " 'Москва ТЦ \"МЕГА Теплый Стан\" II': {'rank': 56, 'value': 142234},\n",
       " 'Химки ТЦ \"Мега\"': {'rank': 57, 'value': 143480},\n",
       " 'Москва ТРК \"Атриум\"': {'rank': 58, 'value': 186104},\n",
       " 'Москва ТЦ \"Семеновский\"': {'rank': 59, 'value': 235636}}"
      ]
     },
     "execution_count": 232,
     "metadata": {},
     "output_type": "execute_result"
    }
   ],
   "source": []
  },
  {
   "cell_type": "code",
   "execution_count": null,
   "metadata": {},
   "outputs": [],
   "source": [
    "train_df = train\\\n",
    "            .join(shops.set_index('shop_id'), on='shop_id')\\\n",
    "            .join(category_item.set_index('item_id'), on='item_id')"
   ]
  },
  {
   "cell_type": "code",
   "execution_count": null,
   "metadata": {},
   "outputs": [],
   "source": [
    "def feature_transform(row):\n",
    "    row['month_year'] = datetime.strptime(row['date'], \"%d.%m.%Y\").date().strftime(\"%B-%Y\")\n",
    "    row['category_rank'] = cat_rank[row['shop_name']] \n",
    "    row['shop_rank'] = shop_rank[row['item_category_name']]\n",
    "    return row\n",
    "train_df = train_df.apply(strip_date, axis=1)"
   ]
  },
  {
   "cell_type": "code",
   "execution_count": 236,
   "metadata": {},
   "outputs": [
    {
     "data": {
      "text/html": [
       "<div>\n",
       "<style scoped>\n",
       "    .dataframe tbody tr th:only-of-type {\n",
       "        vertical-align: middle;\n",
       "    }\n",
       "\n",
       "    .dataframe tbody tr th {\n",
       "        vertical-align: top;\n",
       "    }\n",
       "\n",
       "    .dataframe thead th {\n",
       "        text-align: right;\n",
       "    }\n",
       "</style>\n",
       "<table border=\"1\" class=\"dataframe\">\n",
       "  <thead>\n",
       "    <tr style=\"text-align: right;\">\n",
       "      <th></th>\n",
       "      <th>date</th>\n",
       "      <th>date_block_num</th>\n",
       "      <th>shop_id</th>\n",
       "      <th>item_id</th>\n",
       "      <th>item_price</th>\n",
       "      <th>item_cnt_day</th>\n",
       "      <th>shop_name</th>\n",
       "      <th>item_name</th>\n",
       "      <th>item_category_id</th>\n",
       "      <th>item_category_name</th>\n",
       "      <th>month_year</th>\n",
       "    </tr>\n",
       "  </thead>\n",
       "  <tbody>\n",
       "    <tr>\n",
       "      <th>0</th>\n",
       "      <td>02.01.2013</td>\n",
       "      <td>0</td>\n",
       "      <td>59</td>\n",
       "      <td>22154</td>\n",
       "      <td>999.00</td>\n",
       "      <td>1.0</td>\n",
       "      <td>Ярославль ТЦ \"Альтаир\"</td>\n",
       "      <td>ЯВЛЕНИЕ 2012 (BD)</td>\n",
       "      <td>37</td>\n",
       "      <td>Кино - Blu-Ray</td>\n",
       "      <td>January-2013</td>\n",
       "    </tr>\n",
       "    <tr>\n",
       "      <th>1</th>\n",
       "      <td>03.01.2013</td>\n",
       "      <td>0</td>\n",
       "      <td>25</td>\n",
       "      <td>2552</td>\n",
       "      <td>899.00</td>\n",
       "      <td>1.0</td>\n",
       "      <td>Москва ТРК \"Атриум\"</td>\n",
       "      <td>DEEP PURPLE  The House Of Blue Light  LP</td>\n",
       "      <td>58</td>\n",
       "      <td>Музыка - Винил</td>\n",
       "      <td>January-2013</td>\n",
       "    </tr>\n",
       "    <tr>\n",
       "      <th>2</th>\n",
       "      <td>05.01.2013</td>\n",
       "      <td>0</td>\n",
       "      <td>25</td>\n",
       "      <td>2552</td>\n",
       "      <td>899.00</td>\n",
       "      <td>-1.0</td>\n",
       "      <td>Москва ТРК \"Атриум\"</td>\n",
       "      <td>DEEP PURPLE  The House Of Blue Light  LP</td>\n",
       "      <td>58</td>\n",
       "      <td>Музыка - Винил</td>\n",
       "      <td>January-2013</td>\n",
       "    </tr>\n",
       "    <tr>\n",
       "      <th>3</th>\n",
       "      <td>06.01.2013</td>\n",
       "      <td>0</td>\n",
       "      <td>25</td>\n",
       "      <td>2554</td>\n",
       "      <td>1709.05</td>\n",
       "      <td>1.0</td>\n",
       "      <td>Москва ТРК \"Атриум\"</td>\n",
       "      <td>DEEP PURPLE  Who Do You Think We Are  LP</td>\n",
       "      <td>58</td>\n",
       "      <td>Музыка - Винил</td>\n",
       "      <td>January-2013</td>\n",
       "    </tr>\n",
       "    <tr>\n",
       "      <th>4</th>\n",
       "      <td>15.01.2013</td>\n",
       "      <td>0</td>\n",
       "      <td>25</td>\n",
       "      <td>2555</td>\n",
       "      <td>1099.00</td>\n",
       "      <td>1.0</td>\n",
       "      <td>Москва ТРК \"Атриум\"</td>\n",
       "      <td>DEEP PURPLE 30 Very Best Of 2CD (Фирм.)</td>\n",
       "      <td>56</td>\n",
       "      <td>Музыка - CD фирменного производства</td>\n",
       "      <td>January-2013</td>\n",
       "    </tr>\n",
       "  </tbody>\n",
       "</table>\n",
       "</div>"
      ],
      "text/plain": [
       "         date  date_block_num  shop_id  item_id  item_price  item_cnt_day  \\\n",
       "0  02.01.2013               0       59    22154      999.00           1.0   \n",
       "1  03.01.2013               0       25     2552      899.00           1.0   \n",
       "2  05.01.2013               0       25     2552      899.00          -1.0   \n",
       "3  06.01.2013               0       25     2554     1709.05           1.0   \n",
       "4  15.01.2013               0       25     2555     1099.00           1.0   \n",
       "\n",
       "                shop_name                                 item_name  \\\n",
       "0  Ярославль ТЦ \"Альтаир\"                         ЯВЛЕНИЕ 2012 (BD)   \n",
       "1     Москва ТРК \"Атриум\"  DEEP PURPLE  The House Of Blue Light  LP   \n",
       "2     Москва ТРК \"Атриум\"  DEEP PURPLE  The House Of Blue Light  LP   \n",
       "3     Москва ТРК \"Атриум\"  DEEP PURPLE  Who Do You Think We Are  LP   \n",
       "4     Москва ТРК \"Атриум\"   DEEP PURPLE 30 Very Best Of 2CD (Фирм.)   \n",
       "\n",
       "   item_category_id                   item_category_name    month_year  \n",
       "0                37                       Кино - Blu-Ray  January-2013  \n",
       "1                58                       Музыка - Винил  January-2013  \n",
       "2                58                       Музыка - Винил  January-2013  \n",
       "3                58                       Музыка - Винил  January-2013  \n",
       "4                56  Музыка - CD фирменного производства  January-2013  "
      ]
     },
     "execution_count": 236,
     "metadata": {},
     "output_type": "execute_result"
    }
   ],
   "source": [
    "train_df.head(5)"
   ]
  },
  {
   "cell_type": "code",
   "execution_count": null,
   "metadata": {},
   "outputs": [],
   "source": [
    "x = train.date_block_num.value_counts().index\n",
    "y = train.date_block_num.value_counts().values\n",
    "\n",
    "plt.figure(figsize=(18,8))\n",
    "plt.bar(x, y, color='#273c75')\n",
    "plt.xticks(x,x)\n",
    "plt.xlabel('Consecutive month')\n",
    "plt.ylabel('Items sold')\n",
    "\n",
    "\n",
    "\n",
    "for k,j in zip(x,y):\n",
    "    plt.annotate(str(j), xy=(k,j+ 2000), ha='center', rotation=90)\n",
    "plt.show()"
   ]
  },
  {
   "cell_type": "code",
   "execution_count": null,
   "metadata": {},
   "outputs": [],
   "source": [
    "train.groupby(['date_block_num','item_id']).size()"
   ]
  },
  {
   "cell_type": "code",
   "execution_count": null,
   "metadata": {},
   "outputs": [],
   "source": [
    "#TODO: Multi-BarPlot"
   ]
  },
  {
   "cell_type": "code",
   "execution_count": null,
   "metadata": {},
   "outputs": [],
   "source": []
  },
  {
   "cell_type": "code",
   "execution_count": null,
   "metadata": {},
   "outputs": [],
   "source": []
  }
 ],
 "metadata": {
  "kernelspec": {
   "display_name": "Python 3",
   "language": "python",
   "name": "python3"
  },
  "language_info": {
   "codemirror_mode": {
    "name": "ipython",
    "version": 3
   },
   "file_extension": ".py",
   "mimetype": "text/x-python",
   "name": "python",
   "nbconvert_exporter": "python",
   "pygments_lexer": "ipython3",
   "version": "3.7.3"
  }
 },
 "nbformat": 4,
 "nbformat_minor": 2
}
