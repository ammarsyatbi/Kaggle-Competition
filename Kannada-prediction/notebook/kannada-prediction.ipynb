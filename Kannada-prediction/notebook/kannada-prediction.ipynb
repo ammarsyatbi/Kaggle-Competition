{
 "cells": [
  {
   "cell_type": "code",
   "execution_count": 75,
   "metadata": {},
   "outputs": [],
   "source": [
    "import pandas as pd\n",
    "import numpy as np\n",
    "import seaborn as sns\n",
    "sns.set()\n",
    "import matplotlib.pyplot as plt\n",
    "%matplotlib inline\n",
    "\n",
    "from sklearn.model_selection import train_test_split\n",
    "from sklearn.metrics import confusion_matrix,accuracy_score,classification_report\n",
    "\n",
    "from keras.utils.np_utils import to_categorical\n",
    "from keras.preprocessing.image import ImageDataGenerator\n",
    "from keras.models import Sequential\n",
    "from keras.layers import Dense,Conv2D,Flatten,MaxPool2D,Dropout,BatchNormalization\n",
    "from keras.optimizers import Adam\n",
    "from keras.callbacks import ReduceLROnPlateau"
   ]
  },
  {
   "cell_type": "code",
   "execution_count": 2,
   "metadata": {},
   "outputs": [],
   "source": [
    "from tensorflow.compat.v1 import ConfigProto\n",
    "from tensorflow.compat.v1 import InteractiveSession\n",
    "\n",
    "config = ConfigProto()\n",
    "config.gpu_options.allow_growth = True\n",
    "session = InteractiveSession(config=config)"
   ]
  },
  {
   "cell_type": "code",
   "execution_count": 3,
   "metadata": {},
   "outputs": [],
   "source": [
    "train = pd.read_csv(\"../data/train.csv\")\n",
    "test = pd.read_csv(\"../data/test.csv\")\n",
    "dig = pd.read_csv(\"../data/Dig-MNIST.csv\")\n",
    "sample = pd.read_csv(\"../data/sample_submission.csv\")"
   ]
  },
  {
   "cell_type": "code",
   "execution_count": 4,
   "metadata": {},
   "outputs": [
    {
     "data": {
      "text/html": [
       "<div>\n",
       "<style scoped>\n",
       "    .dataframe tbody tr th:only-of-type {\n",
       "        vertical-align: middle;\n",
       "    }\n",
       "\n",
       "    .dataframe tbody tr th {\n",
       "        vertical-align: top;\n",
       "    }\n",
       "\n",
       "    .dataframe thead th {\n",
       "        text-align: right;\n",
       "    }\n",
       "</style>\n",
       "<table border=\"1\" class=\"dataframe\">\n",
       "  <thead>\n",
       "    <tr style=\"text-align: right;\">\n",
       "      <th></th>\n",
       "      <th>label</th>\n",
       "      <th>pixel0</th>\n",
       "      <th>pixel1</th>\n",
       "      <th>pixel2</th>\n",
       "      <th>pixel3</th>\n",
       "      <th>pixel4</th>\n",
       "      <th>pixel5</th>\n",
       "      <th>pixel6</th>\n",
       "      <th>pixel7</th>\n",
       "      <th>pixel8</th>\n",
       "      <th>...</th>\n",
       "      <th>pixel774</th>\n",
       "      <th>pixel775</th>\n",
       "      <th>pixel776</th>\n",
       "      <th>pixel777</th>\n",
       "      <th>pixel778</th>\n",
       "      <th>pixel779</th>\n",
       "      <th>pixel780</th>\n",
       "      <th>pixel781</th>\n",
       "      <th>pixel782</th>\n",
       "      <th>pixel783</th>\n",
       "    </tr>\n",
       "  </thead>\n",
       "  <tbody>\n",
       "    <tr>\n",
       "      <th>0</th>\n",
       "      <td>0</td>\n",
       "      <td>0</td>\n",
       "      <td>0</td>\n",
       "      <td>0</td>\n",
       "      <td>0</td>\n",
       "      <td>0</td>\n",
       "      <td>0</td>\n",
       "      <td>0</td>\n",
       "      <td>0</td>\n",
       "      <td>0</td>\n",
       "      <td>...</td>\n",
       "      <td>0</td>\n",
       "      <td>0</td>\n",
       "      <td>0</td>\n",
       "      <td>0</td>\n",
       "      <td>0</td>\n",
       "      <td>0</td>\n",
       "      <td>0</td>\n",
       "      <td>0</td>\n",
       "      <td>0</td>\n",
       "      <td>0</td>\n",
       "    </tr>\n",
       "    <tr>\n",
       "      <th>1</th>\n",
       "      <td>1</td>\n",
       "      <td>0</td>\n",
       "      <td>0</td>\n",
       "      <td>0</td>\n",
       "      <td>0</td>\n",
       "      <td>0</td>\n",
       "      <td>0</td>\n",
       "      <td>0</td>\n",
       "      <td>0</td>\n",
       "      <td>0</td>\n",
       "      <td>...</td>\n",
       "      <td>0</td>\n",
       "      <td>0</td>\n",
       "      <td>0</td>\n",
       "      <td>0</td>\n",
       "      <td>0</td>\n",
       "      <td>0</td>\n",
       "      <td>0</td>\n",
       "      <td>0</td>\n",
       "      <td>0</td>\n",
       "      <td>0</td>\n",
       "    </tr>\n",
       "    <tr>\n",
       "      <th>2</th>\n",
       "      <td>2</td>\n",
       "      <td>0</td>\n",
       "      <td>0</td>\n",
       "      <td>0</td>\n",
       "      <td>0</td>\n",
       "      <td>0</td>\n",
       "      <td>0</td>\n",
       "      <td>0</td>\n",
       "      <td>0</td>\n",
       "      <td>0</td>\n",
       "      <td>...</td>\n",
       "      <td>0</td>\n",
       "      <td>0</td>\n",
       "      <td>0</td>\n",
       "      <td>0</td>\n",
       "      <td>0</td>\n",
       "      <td>0</td>\n",
       "      <td>0</td>\n",
       "      <td>0</td>\n",
       "      <td>0</td>\n",
       "      <td>0</td>\n",
       "    </tr>\n",
       "    <tr>\n",
       "      <th>3</th>\n",
       "      <td>3</td>\n",
       "      <td>0</td>\n",
       "      <td>0</td>\n",
       "      <td>0</td>\n",
       "      <td>0</td>\n",
       "      <td>0</td>\n",
       "      <td>0</td>\n",
       "      <td>0</td>\n",
       "      <td>0</td>\n",
       "      <td>0</td>\n",
       "      <td>...</td>\n",
       "      <td>0</td>\n",
       "      <td>0</td>\n",
       "      <td>0</td>\n",
       "      <td>0</td>\n",
       "      <td>0</td>\n",
       "      <td>0</td>\n",
       "      <td>0</td>\n",
       "      <td>0</td>\n",
       "      <td>0</td>\n",
       "      <td>0</td>\n",
       "    </tr>\n",
       "    <tr>\n",
       "      <th>4</th>\n",
       "      <td>4</td>\n",
       "      <td>0</td>\n",
       "      <td>0</td>\n",
       "      <td>0</td>\n",
       "      <td>0</td>\n",
       "      <td>0</td>\n",
       "      <td>0</td>\n",
       "      <td>0</td>\n",
       "      <td>0</td>\n",
       "      <td>0</td>\n",
       "      <td>...</td>\n",
       "      <td>0</td>\n",
       "      <td>0</td>\n",
       "      <td>0</td>\n",
       "      <td>0</td>\n",
       "      <td>0</td>\n",
       "      <td>0</td>\n",
       "      <td>0</td>\n",
       "      <td>0</td>\n",
       "      <td>0</td>\n",
       "      <td>0</td>\n",
       "    </tr>\n",
       "  </tbody>\n",
       "</table>\n",
       "<p>5 rows × 785 columns</p>\n",
       "</div>"
      ],
      "text/plain": [
       "   label  pixel0  pixel1  pixel2  pixel3  pixel4  pixel5  pixel6  pixel7  \\\n",
       "0      0       0       0       0       0       0       0       0       0   \n",
       "1      1       0       0       0       0       0       0       0       0   \n",
       "2      2       0       0       0       0       0       0       0       0   \n",
       "3      3       0       0       0       0       0       0       0       0   \n",
       "4      4       0       0       0       0       0       0       0       0   \n",
       "\n",
       "   pixel8  ...  pixel774  pixel775  pixel776  pixel777  pixel778  pixel779  \\\n",
       "0       0  ...         0         0         0         0         0         0   \n",
       "1       0  ...         0         0         0         0         0         0   \n",
       "2       0  ...         0         0         0         0         0         0   \n",
       "3       0  ...         0         0         0         0         0         0   \n",
       "4       0  ...         0         0         0         0         0         0   \n",
       "\n",
       "   pixel780  pixel781  pixel782  pixel783  \n",
       "0         0         0         0         0  \n",
       "1         0         0         0         0  \n",
       "2         0         0         0         0  \n",
       "3         0         0         0         0  \n",
       "4         0         0         0         0  \n",
       "\n",
       "[5 rows x 785 columns]"
      ]
     },
     "execution_count": 4,
     "metadata": {},
     "output_type": "execute_result"
    }
   ],
   "source": [
    "train.head()"
   ]
  },
  {
   "cell_type": "code",
   "execution_count": 5,
   "metadata": {},
   "outputs": [
    {
     "data": {
      "image/png": "[encoded data removed]",
      "text/plain": [
       "<Figure size 432x288 with 1 Axes>"
      ]
     },
     "metadata": {
      "needs_background": "light"
     },
     "output_type": "display_data"
    }
   ],
   "source": [
    "y = train.label.value_counts()\n",
    "x = y.index\n",
    "plt.bar(x,y)\n",
    "plt.xticks(x, labels=x)\n",
    "plt.xlabel('Kannada Numbers')\n",
    "plt.ylabel('Frequency')\n",
    "plt.show()\n"
   ]
  },
  {
   "cell_type": "code",
   "execution_count": null,
   "metadata": {},
   "outputs": [],
   "source": []
  },
  {
   "cell_type": "code",
   "execution_count": 6,
   "metadata": {},
   "outputs": [
    {
     "name": "stdout",
     "output_type": "stream",
     "text": [
      "Train data shape (60000, 785)\n",
      "Test data shape (5000, 785)\n"
     ]
    }
   ],
   "source": [
    "print(f\"Train data shape {train.shape}\")\n",
    "print(f\"Test data shape {test.shape}\")"
   ]
  },
  {
   "cell_type": "code",
   "execution_count": 7,
   "metadata": {},
   "outputs": [],
   "source": [
    "x_train = train.drop(columns=['label'])  #largest pixel value\n",
    "y_train = to_categorical(train.label) #one-hot \n",
    "x_test = test.drop(columns=\"id\")\n"
   ]
  },
  {
   "cell_type": "code",
   "execution_count": 8,
   "metadata": {},
   "outputs": [
    {
     "data": {
      "text/plain": [
       "array([[  0,   0,   0,   0,   0,   0,   0,   0,   0,   0,   0,   0,   0,\n",
       "          0,   0,   0,   0,   0,   0,   0,   0,   0,   0,   0,   0,   0,\n",
       "          0,   0],\n",
       "       [  0,   0,   0,   0,   0,   0,   0,   0,   0,   0,   0,   0,   0,\n",
       "          0,   0,   0,   0,   0,   0,   0,   0,   0,   0,   0,   0,   0,\n",
       "          0,   0],\n",
       "       [  0,   0,   0,   0,   0,   0,   0,   0,   0,   0,   0,   0,   0,\n",
       "          0,   0,   0,   0,   0,   0,   0,   0,   0,   0,   0,   0,   0,\n",
       "          0,   0],\n",
       "       [  0,   0,   0,   0,   0,   0,   0,   0,   0,   0,   0,   0,   0,\n",
       "          0,   0,   0,   0,   0,   0,   0,   0,   0,   0,   0,   0,   0,\n",
       "          0,   0],\n",
       "       [  0,   0,   0,   0,   0,   0,   0,   0,   0,   0,   0,   0,   0,\n",
       "          0,   0,   0,   0,   0,   0,   0,   0,   0,   0,   0,   0,   0,\n",
       "          0,   0],\n",
       "       [  0,   0,   0,   0,   0,   0,   0,   0,   0,   0,   0,   0,   0,\n",
       "         21, 234, 255, 255, 149,   0,   0,   0,   0,   0,   0,   0,   0,\n",
       "          0,   0],\n",
       "       [  0,   0,   0,   0,   0,   0,   0,   0,   0,   0,   0,   0,   0,\n",
       "         21, 234, 255, 255, 231, 148,   0,   0,   0,   0,   0,   0,   0,\n",
       "          0,   0],\n",
       "       [  0,   0,   0,   0,   0,   0,   0,   0,   0,   0,   0,   0,  40,\n",
       "        167, 247, 255, 255, 255, 191,   0,   0,   0,   0,   0,   0,   0,\n",
       "          0,   0],\n",
       "       [  0,   0,   0,   0,   0,   0,   0,   0,   0,   0,   0,  50, 154,\n",
       "        255, 255, 164, 134, 184, 221, 121,   0,   0,   0,   0,   0,   0,\n",
       "          0,   0],\n",
       "       [  0,   0,   0,   0,   0,   0,   0,   0,   0,   0,  48, 154, 234,\n",
       "        172, 172,  43,   0,  72, 172, 172,   0,   0,   0,   0,   0,   0,\n",
       "          0,   0],\n",
       "       [  0,   0,   0,   0,   0,   0,   0,   0,   0,   0, 149, 236, 158,\n",
       "          0,   0,   0,   0,  19,  33,   0,   0,   0,   0,   0,   0,   0,\n",
       "          0,   0],\n",
       "       [  0,   0,   0,   0,   0,   0,   0,   0,   0,   5, 148, 145,   0,\n",
       "          0,   0,   0,   0, 106, 191,   0,   0,   0,   0,   0,   0,   0,\n",
       "          0,   0],\n",
       "       [  0,   0,   0,   0,   0,   0,   0,   0,   0, 167, 111,  19,   0,\n",
       "          0,   0,   0,   0, 106, 191,   0,   0,   0,   0,   0,   0,   0,\n",
       "          0,   0],\n",
       "       [  0,   0,   0,   0,   0,   0,   0,   0,   0, 191, 106,   0,   0,\n",
       "          0,   0,   0,   0, 106, 191,   0,   0,   0,   0,   0,   0,   0,\n",
       "          0,   0],\n",
       "       [  0,   0,   0,   0,   0,   0,   0,   0, 147, 118,  45,   0,   0,\n",
       "          0,   0,   0,   0, 106, 191,   0,   0,   0,   0,   0,   0,   0,\n",
       "          0,   0],\n",
       "       [  0,   0,   0,   0,   0,   0,   0,   0, 255,  64,   0,   0,   0,\n",
       "          0,   0,   0,   0, 106, 191,   0,   0,   0,   0,   0,   0,   0,\n",
       "          0,   0],\n",
       "       [  0,   0,   0,   0,   0,   0,   0,   0, 255,  64,   0,   0,   0,\n",
       "          0,   0,   0,   0, 106, 191,   0,   0,   0,   0,   0,   0,   0,\n",
       "          0,   0],\n",
       "       [  0,   0,   0,   0,   0,   0,   0,   0, 255,  64,   0,   0,   0,\n",
       "          0,   0,   0,   0, 106, 191,   0,   0,   0,   0,   0,   0,   0,\n",
       "          0,   0],\n",
       "       [  0,   0,   0,   0,   0,   0,   0,   0, 255,  64,   0,   0,   0,\n",
       "          0,   0,   0,   0, 106, 191,   0,   0,   0,   0,   0,   0,   0,\n",
       "          0,   0],\n",
       "       [  0,   0,   0,   0,   0,   0,   0,   0,  45, 169,  88,   0,   0,\n",
       "          0,   0,   0, 123, 141,  33,   0,   0,   0,   0,   0,   0,   0,\n",
       "          0,   0],\n",
       "       [  0,   0,   0,   0,   0,   0,   0,   0,   0, 191, 106,   0,   0,\n",
       "          0,   0,   0, 149, 149,   0,   0,   0,   0,   0,   0,   0,   0,\n",
       "          0,   0],\n",
       "       [  0,   0,   0,   0,   0,   0,   0,   0,   0, 191, 184,  78,   0,\n",
       "         11, 123, 134, 126,  71,   0,   0,   0,   0,   0,   0,   0,   0,\n",
       "          0,   0],\n",
       "       [  0,   0,   0,   0,   0,   0,   0,   0,   0, 120, 215, 188,  96,\n",
       "        109, 242, 183,  66,   0,   0,   0,   0,   0,   0,   0,   0,   0,\n",
       "          0,   0],\n",
       "       [  0,   0,   0,   0,   0,   0,   0,   0,   0,   0, 115, 221, 255,\n",
       "        250, 202,  49,   0,   0,   0,   0,   0,   0,   0,   0,   0,   0,\n",
       "          0,   0],\n",
       "       [  0,   0,   0,   0,   0,   0,   0,   0,   0,   0,   0, 106, 255,\n",
       "        234,  21,   0,   0,   0,   0,   0,   0,   0,   0,   0,   0,   0,\n",
       "          0,   0],\n",
       "       [  0,   0,   0,   0,   0,   0,   0,   0,   0,   0,   0,   0,   0,\n",
       "          0,   0,   0,   0,   0,   0,   0,   0,   0,   0,   0,   0,   0,\n",
       "          0,   0],\n",
       "       [  0,   0,   0,   0,   0,   0,   0,   0,   0,   0,   0,   0,   0,\n",
       "          0,   0,   0,   0,   0,   0,   0,   0,   0,   0,   0,   0,   0,\n",
       "          0,   0],\n",
       "       [  0,   0,   0,   0,   0,   0,   0,   0,   0,   0,   0,   0,   0,\n",
       "          0,   0,   0,   0,   0,   0,   0,   0,   0,   0,   0,   0,   0,\n",
       "          0,   0]], dtype=uint8)"
      ]
     },
     "execution_count": 8,
     "metadata": {},
     "output_type": "execute_result"
    }
   ],
   "source": [
    "x_train[train.label == 0].iloc[0].to_numpy().astype(np.uint8).reshape(28, 28)"
   ]
  },
  {
   "cell_type": "code",
   "execution_count": 9,
   "metadata": {},
   "outputs": [
    {
     "data": {
      "image/png": "[encoded data removed]",
      "text/plain": [
       "<Figure size 1080x1080 with 10 Axes>"
      ]
     },
     "metadata": {
      "needs_background": "light"
     },
     "output_type": "display_data"
    }
   ],
   "source": [
    "fig, ax = plt.subplots(ncols=10, figsize=(15,15))\n",
    "for i in range(10):\n",
    "    kannada = x_train[train.label == i]\n",
    "    ax[i].set_title(i)\n",
    "    ax[i].axis('off')\n",
    "    ax[i].imshow(kannada.iloc[0, :].to_numpy().astype(np.uint8).reshape(28, 28))"
   ]
  },
  {
   "cell_type": "code",
   "execution_count": 10,
   "metadata": {},
   "outputs": [],
   "source": [
    "x_train = x_train /255\n",
    "x_test = x_test / 255"
   ]
  },
  {
   "cell_type": "code",
   "execution_count": 11,
   "metadata": {},
   "outputs": [],
   "source": [
    "x_train = x_train.values.reshape(-1,28,28,1) # 28 * 28 = 784\n",
    "x_test = x_test.values.reshape(-1,28,28,1)"
   ]
  },
  {
   "cell_type": "code",
   "execution_count": 12,
   "metadata": {},
   "outputs": [],
   "source": [
    "X_train, X_test, Y_train, Y_test = train_test_split(x_train, y_train, test_size=0.2, random_state=42)"
   ]
  },
  {
   "cell_type": "code",
   "execution_count": 13,
   "metadata": {},
   "outputs": [],
   "source": [
    "# CREATE MORE TRAINING IMAGES VIA DATA AUGMENTATION\n",
    "datagen = ImageDataGenerator(\n",
    "        rotation_range=10,  \n",
    "        zoom_range = 0.1,  \n",
    "        width_shift_range=0.1, \n",
    "        height_shift_range=0.1)"
   ]
  },
  {
   "cell_type": "code",
   "execution_count": 14,
   "metadata": {},
   "outputs": [],
   "source": [
    "datagen.fit(X_train)"
   ]
  },
  {
   "cell_type": "code",
   "execution_count": 31,
   "metadata": {},
   "outputs": [],
   "source": [
    "EPOCHS=50\n",
    "BATCH_SIZE=64"
   ]
  },
  {
   "cell_type": "code",
   "execution_count": 29,
   "metadata": {},
   "outputs": [],
   "source": [
    "callbacks = [ReduceLROnPlateau(monitor='val_acc',\n",
    "                               patience=5,\n",
    "                               verbose=1,\n",
    "                               factor=0.5,\n",
    "                               min_lr=0.00001)]"
   ]
  },
  {
   "cell_type": "code",
   "execution_count": 27,
   "metadata": {},
   "outputs": [],
   "source": [
    "#build based on :\n",
    "#https://www.kaggle.com/cdeotte/how-to-choose-cnn-architecture-mnist#1.-How-many-convolution-subsambling-pairs?\n",
    "model = Sequential()\n",
    "\n",
    "model.add(Conv2D(32,kernel_size=3,activation='relu',input_shape=(28,28,1)))\n",
    "model.add(BatchNormalization())\n",
    "model.add(Conv2D(32,kernel_size=3,activation='relu')) \n",
    "model.add(BatchNormalization())\n",
    "model.add(Conv2D(32,kernel_size=5,strides=2,padding='same',activation='relu'))\n",
    "model.add(BatchNormalization())\n",
    "model.add(Dropout(0.4))\n",
    "\n",
    "model.add(Conv2D(64,kernel_size=3,activation='relu'))\n",
    "model.add(BatchNormalization())\n",
    "model.add(Conv2D(64,kernel_size=3,activation='relu'))\n",
    "model.add(BatchNormalization())\n",
    "model.add(Conv2D(64,kernel_size=5,strides=2,padding='same',activation='relu'))\n",
    "model.add(BatchNormalization())\n",
    "model.add(Dropout(0.4))\n",
    "\n",
    "model.add(Flatten())\n",
    "model.add(Dense(128, activation='relu'))\n",
    "model.add(BatchNormalization())\n",
    "model.add(Dropout(0.4))\n",
    "model.add(Dense(10, activation='softmax'))\n",
    "\n",
    "model.compile(optimizer=Adam(lr=0.001), loss=\"categorical_crossentropy\", metrics=[\"accuracy\"])"
   ]
  },
  {
   "cell_type": "code",
   "execution_count": 103,
   "metadata": {
    "scrolled": true
   },
   "outputs": [
    {
     "name": "stdout",
     "output_type": "stream",
     "text": [
      "Model: \"sequential_2\"\n",
      "_________________________________________________________________\n",
      "Layer (type)                 Output Shape              Param #   \n",
      "=================================================================\n",
      "conv2d_7 (Conv2D)            (None, 26, 26, 32)        320       \n",
      "_________________________________________________________________\n",
      "batch_normalization_8 (Batch (None, 26, 26, 32)        128       \n",
      "_________________________________________________________________\n",
      "conv2d_8 (Conv2D)            (None, 24, 24, 32)        9248      \n",
      "_________________________________________________________________\n",
      "batch_normalization_9 (Batch (None, 24, 24, 32)        128       \n",
      "_________________________________________________________________\n",
      "conv2d_9 (Conv2D)            (None, 12, 12, 32)        25632     \n",
      "_________________________________________________________________\n",
      "batch_normalization_10 (Batc (None, 12, 12, 32)        128       \n",
      "_________________________________________________________________\n",
      "dropout_4 (Dropout)          (None, 12, 12, 32)        0         \n",
      "_________________________________________________________________\n",
      "conv2d_10 (Conv2D)           (None, 10, 10, 64)        18496     \n",
      "_________________________________________________________________\n",
      "batch_normalization_11 (Batc (None, 10, 10, 64)        256       \n",
      "_________________________________________________________________\n",
      "conv2d_11 (Conv2D)           (None, 8, 8, 64)          36928     \n",
      "_________________________________________________________________\n",
      "batch_normalization_12 (Batc (None, 8, 8, 64)          256       \n",
      "_________________________________________________________________\n",
      "conv2d_12 (Conv2D)           (None, 4, 4, 64)          102464    \n",
      "_________________________________________________________________\n",
      "batch_normalization_13 (Batc (None, 4, 4, 64)          256       \n",
      "_________________________________________________________________\n",
      "dropout_5 (Dropout)          (None, 4, 4, 64)          0         \n",
      "_________________________________________________________________\n",
      "flatten_2 (Flatten)          (None, 1024)              0         \n",
      "_________________________________________________________________\n",
      "dense_3 (Dense)              (None, 128)               131200    \n",
      "_________________________________________________________________\n",
      "batch_normalization_14 (Batc (None, 128)               512       \n",
      "_________________________________________________________________\n",
      "dropout_6 (Dropout)          (None, 128)               0         \n",
      "_________________________________________________________________\n",
      "dense_4 (Dense)              (None, 10)                1290      \n",
      "=================================================================\n",
      "Total params: 327,242\n",
      "Trainable params: 326,410\n",
      "Non-trainable params: 832\n",
      "_________________________________________________________________\n",
      "None\n"
     ]
    }
   ],
   "source": [
    "print(model.summary())"
   ]
  },
  {
   "cell_type": "code",
   "execution_count": 30,
   "metadata": {
    "scrolled": true
   },
   "outputs": [
    {
     "name": "stdout",
     "output_type": "stream",
     "text": [
      "Epoch 1/50\n",
      "750/750 [==============================] - 15s 20ms/step - loss: 0.2951 - accuracy: 0.9076 - val_loss: 0.0385 - val_accuracy: 0.9898\n",
      "Epoch 2/50\n",
      " 10/750 [..............................] - ETA: 13s - loss: 0.1069 - accuracy: 0.9672"
     ]
    },
    {
     "name": "stderr",
     "output_type": "stream",
     "text": [
      "/home/mars/.local/lib/python3.7/site-packages/keras/callbacks/callbacks.py:1042: RuntimeWarning: Reduce LR on plateau conditioned on metric `val_acc` which is not available. Available metrics are: val_loss,val_accuracy,loss,accuracy,lr\n",
      "  (self.monitor, ','.join(list(logs.keys()))), RuntimeWarning\n"
     ]
    },
    {
     "name": "stdout",
     "output_type": "stream",
     "text": [
      "750/750 [==============================] - 14s 18ms/step - loss: 0.0774 - accuracy: 0.9753 - val_loss: 0.0545 - val_accuracy: 0.9838\n",
      "Epoch 3/50\n",
      "750/750 [==============================] - 14s 19ms/step - loss: 0.0597 - accuracy: 0.9821 - val_loss: 0.0203 - val_accuracy: 0.9939\n",
      "Epoch 4/50\n",
      "750/750 [==============================] - 14s 18ms/step - loss: 0.0518 - accuracy: 0.9840 - val_loss: 0.0236 - val_accuracy: 0.9936\n",
      "Epoch 5/50\n",
      "750/750 [==============================] - 14s 19ms/step - loss: 0.0463 - accuracy: 0.9861 - val_loss: 0.0236 - val_accuracy: 0.9939\n",
      "Epoch 6/50\n",
      "750/750 [==============================] - 14s 19ms/step - loss: 0.0416 - accuracy: 0.9872 - val_loss: 0.0297 - val_accuracy: 0.9921\n",
      "Epoch 7/50\n",
      "750/750 [==============================] - 14s 19ms/step - loss: 0.0394 - accuracy: 0.9883 - val_loss: 0.0356 - val_accuracy: 0.9898\n",
      "Epoch 8/50\n",
      "750/750 [==============================] - 14s 19ms/step - loss: 0.0366 - accuracy: 0.9887 - val_loss: 0.0267 - val_accuracy: 0.9917\n",
      "Epoch 9/50\n",
      "750/750 [==============================] - 15s 19ms/step - loss: 0.0348 - accuracy: 0.9898 - val_loss: 0.0201 - val_accuracy: 0.9948\n",
      "Epoch 10/50\n",
      "750/750 [==============================] - 14s 19ms/step - loss: 0.0334 - accuracy: 0.9898 - val_loss: 0.0231 - val_accuracy: 0.9943\n",
      "Epoch 11/50\n",
      "750/750 [==============================] - 14s 19ms/step - loss: 0.0316 - accuracy: 0.9906 - val_loss: 0.0169 - val_accuracy: 0.9957\n",
      "Epoch 12/50\n",
      "750/750 [==============================] - 14s 19ms/step - loss: 0.0291 - accuracy: 0.9912 - val_loss: 0.0150 - val_accuracy: 0.9960\n",
      "Epoch 13/50\n",
      "750/750 [==============================] - 14s 18ms/step - loss: 0.0272 - accuracy: 0.9911 - val_loss: 0.0172 - val_accuracy: 0.9951\n",
      "Epoch 14/50\n",
      "750/750 [==============================] - 14s 18ms/step - loss: 0.0261 - accuracy: 0.9921 - val_loss: 0.0139 - val_accuracy: 0.9958\n",
      "Epoch 15/50\n",
      "750/750 [==============================] - 13s 18ms/step - loss: 0.0267 - accuracy: 0.9919 - val_loss: 0.0222 - val_accuracy: 0.9932\n",
      "Epoch 16/50\n",
      "750/750 [==============================] - 14s 18ms/step - loss: 0.0232 - accuracy: 0.9930 - val_loss: 0.0134 - val_accuracy: 0.9963\n",
      "Epoch 17/50\n",
      "750/750 [==============================] - 14s 19ms/step - loss: 0.0230 - accuracy: 0.9930 - val_loss: 0.0143 - val_accuracy: 0.9964\n",
      "Epoch 18/50\n",
      "750/750 [==============================] - 14s 19ms/step - loss: 0.0221 - accuracy: 0.9933 - val_loss: 0.0106 - val_accuracy: 0.9969\n",
      "Epoch 19/50\n",
      "750/750 [==============================] - 14s 19ms/step - loss: 0.0211 - accuracy: 0.9934 - val_loss: 0.0181 - val_accuracy: 0.9959\n",
      "Epoch 20/50\n",
      "750/750 [==============================] - 14s 19ms/step - loss: 0.0212 - accuracy: 0.9936 - val_loss: 0.0138 - val_accuracy: 0.9962\n",
      "Epoch 21/50\n",
      "750/750 [==============================] - 14s 19ms/step - loss: 0.0200 - accuracy: 0.9940 - val_loss: 0.0140 - val_accuracy: 0.9960\n",
      "Epoch 22/50\n",
      "750/750 [==============================] - 14s 18ms/step - loss: 0.0198 - accuracy: 0.9942 - val_loss: 0.0126 - val_accuracy: 0.9962\n",
      "Epoch 23/50\n",
      "750/750 [==============================] - 14s 19ms/step - loss: 0.0205 - accuracy: 0.9940 - val_loss: 0.0113 - val_accuracy: 0.9960\n",
      "Epoch 24/50\n",
      "750/750 [==============================] - 14s 19ms/step - loss: 0.0169 - accuracy: 0.9953 - val_loss: 0.0122 - val_accuracy: 0.9969\n",
      "Epoch 25/50\n",
      "750/750 [==============================] - 14s 19ms/step - loss: 0.0192 - accuracy: 0.9942 - val_loss: 0.0156 - val_accuracy: 0.9959\n",
      "Epoch 26/50\n",
      "750/750 [==============================] - 14s 18ms/step - loss: 0.0178 - accuracy: 0.9944 - val_loss: 0.0129 - val_accuracy: 0.9967\n",
      "Epoch 27/50\n",
      "750/750 [==============================] - 14s 18ms/step - loss: 0.0182 - accuracy: 0.9948 - val_loss: 0.0135 - val_accuracy: 0.9966\n",
      "Epoch 28/50\n",
      "750/750 [==============================] - 14s 18ms/step - loss: 0.0185 - accuracy: 0.9944 - val_loss: 0.0109 - val_accuracy: 0.9968\n",
      "Epoch 29/50\n",
      "750/750 [==============================] - 14s 18ms/step - loss: 0.0168 - accuracy: 0.9950 - val_loss: 0.0140 - val_accuracy: 0.9960\n",
      "Epoch 30/50\n",
      "750/750 [==============================] - 14s 18ms/step - loss: 0.0165 - accuracy: 0.9950 - val_loss: 0.0131 - val_accuracy: 0.9963\n",
      "Epoch 31/50\n",
      "750/750 [==============================] - 14s 19ms/step - loss: 0.0156 - accuracy: 0.9950 - val_loss: 0.0129 - val_accuracy: 0.9958\n",
      "Epoch 32/50\n",
      "750/750 [==============================] - 14s 19ms/step - loss: 0.0155 - accuracy: 0.9954 - val_loss: 0.0110 - val_accuracy: 0.9965\n",
      "Epoch 33/50\n",
      "750/750 [==============================] - 14s 19ms/step - loss: 0.0154 - accuracy: 0.9953 - val_loss: 0.0115 - val_accuracy: 0.9966\n",
      "Epoch 34/50\n",
      "750/750 [==============================] - 13s 18ms/step - loss: 0.0154 - accuracy: 0.9952 - val_loss: 0.0134 - val_accuracy: 0.9959\n",
      "Epoch 35/50\n",
      "750/750 [==============================] - 14s 18ms/step - loss: 0.0156 - accuracy: 0.9955 - val_loss: 0.0098 - val_accuracy: 0.9968\n",
      "Epoch 36/50\n",
      "750/750 [==============================] - 14s 18ms/step - loss: 0.0144 - accuracy: 0.9955 - val_loss: 0.0125 - val_accuracy: 0.9971\n",
      "Epoch 37/50\n",
      "750/750 [==============================] - 13s 18ms/step - loss: 0.0156 - accuracy: 0.9955 - val_loss: 0.0104 - val_accuracy: 0.9969\n",
      "Epoch 38/50\n",
      "750/750 [==============================] - 14s 18ms/step - loss: 0.0131 - accuracy: 0.9960 - val_loss: 0.0157 - val_accuracy: 0.9960\n",
      "Epoch 39/50\n",
      "750/750 [==============================] - 14s 18ms/step - loss: 0.0141 - accuracy: 0.9960 - val_loss: 0.0107 - val_accuracy: 0.9975\n",
      "Epoch 40/50\n",
      "750/750 [==============================] - 13s 18ms/step - loss: 0.0145 - accuracy: 0.9956 - val_loss: 0.0098 - val_accuracy: 0.9969\n",
      "Epoch 41/50\n",
      "750/750 [==============================] - 14s 18ms/step - loss: 0.0124 - accuracy: 0.9961 - val_loss: 0.0173 - val_accuracy: 0.9959\n",
      "Epoch 42/50\n",
      "750/750 [==============================] - 14s 19ms/step - loss: 0.0131 - accuracy: 0.9958 - val_loss: 0.0123 - val_accuracy: 0.9961\n",
      "Epoch 43/50\n",
      "750/750 [==============================] - 14s 19ms/step - loss: 0.0125 - accuracy: 0.9960 - val_loss: 0.0112 - val_accuracy: 0.9973\n",
      "Epoch 44/50\n",
      "750/750 [==============================] - 14s 19ms/step - loss: 0.0118 - accuracy: 0.9965 - val_loss: 0.0106 - val_accuracy: 0.9966\n",
      "Epoch 45/50\n",
      "750/750 [==============================] - 14s 19ms/step - loss: 0.0125 - accuracy: 0.9966 - val_loss: 0.0141 - val_accuracy: 0.9958\n",
      "Epoch 46/50\n",
      "750/750 [==============================] - 14s 19ms/step - loss: 0.0128 - accuracy: 0.9960 - val_loss: 0.0099 - val_accuracy: 0.9971\n",
      "Epoch 47/50\n",
      "750/750 [==============================] - 14s 19ms/step - loss: 0.0132 - accuracy: 0.9963 - val_loss: 0.0121 - val_accuracy: 0.9969\n",
      "Epoch 48/50\n",
      "750/750 [==============================] - 14s 19ms/step - loss: 0.0138 - accuracy: 0.9957 - val_loss: 0.0127 - val_accuracy: 0.9965\n",
      "Epoch 49/50\n",
      "750/750 [==============================] - 14s 19ms/step - loss: 0.0119 - accuracy: 0.9964 - val_loss: 0.0100 - val_accuracy: 0.9971\n",
      "Epoch 50/50\n",
      "750/750 [==============================] - 14s 19ms/step - loss: 0.0113 - accuracy: 0.9966 - val_loss: 0.0106 - val_accuracy: 0.9966\n"
     ]
    }
   ],
   "source": [
    "history = model.fit_generator(datagen.flow(X_train,Y_train, batch_size=BATCH_SIZE),\n",
    "                              epochs = EPOCHS,\n",
    "#                               batch_size=BATCH_SIZE,\n",
    "                              validation_data = (X_test,Y_test),\n",
    "                              verbose = 1,\n",
    "                              steps_per_epoch=X_train.shape[0] // BATCH_SIZE,\n",
    "                              callbacks=callbacks)"
   ]
  },
  {
   "cell_type": "code",
   "execution_count": 102,
   "metadata": {},
   "outputs": [],
   "source": [
    "model.save_weights(\"../data/kannada-cnn.h5\")"
   ]
  },
  {
   "cell_type": "code",
   "execution_count": 32,
   "metadata": {},
   "outputs": [
    {
     "data": {
      "image/png": "[encoded data removed]",
      "text/plain": [
       "<Figure size 1080x360 with 1 Axes>"
      ]
     },
     "metadata": {
      "needs_background": "light"
     },
     "output_type": "display_data"
    },
    {
     "data": {
      "image/png": "[encoded data removed]",
      "text/plain": [
       "<Figure size 1080x360 with 1 Axes>"
      ]
     },
     "metadata": {
      "needs_background": "light"
     },
     "output_type": "display_data"
    }
   ],
   "source": [
    "plt.figure(figsize=(15,5))\n",
    "plt.plot(history.history['val_accuracy'], label = 'validation')\n",
    "plt.plot(history.history['accuracy'], label = 'training')\n",
    "plt.title('model accuracy')\n",
    "plt.ylabel('accuracy')\n",
    "plt.xlabel('epoch')\n",
    "plt.legend()\n",
    "axes = plt.gca()\n",
    "axes.set_ylim([0.98,1])\n",
    "\n",
    "plt.figure(figsize=(15,5))\n",
    "plt.plot(history.history['val_loss'], label = 'validation')\n",
    "plt.plot(history.history['loss'], label = 'training')\n",
    "plt.title('model loss')\n",
    "plt.ylabel('accuracy')\n",
    "plt.xlabel('epoch')\n",
    "plt.legend()\n",
    "\n",
    "plt.show()"
   ]
  },
  {
   "cell_type": "code",
   "execution_count": 44,
   "metadata": {},
   "outputs": [
    {
     "name": "stdout",
     "output_type": "stream",
     "text": [
      "CPU times: user 1.22 s, sys: 96.2 ms, total: 1.31 s\n",
      "Wall time: 1.08 s\n"
     ]
    }
   ],
   "source": [
    "%%time\n",
    "pred = model.predict(X_test)\n",
    "pred = np.argmax(pred,axis=1)\n",
    "target = np.argmax(Y_test,axis=1)"
   ]
  },
  {
   "cell_type": "code",
   "execution_count": 60,
   "metadata": {},
   "outputs": [
    {
     "name": "stdout",
     "output_type": "stream",
     "text": [
      "[[1168    9    0    0    0    0    0    0    0    0]\n",
      " [   1 1217    0    0    0    0    0    0    0    0]\n",
      " [   1    0 1223    0    0    0    0    0    0    0]\n",
      " [   1    0    0 1177    1    0    0    5    0    0]\n",
      " [   0    1    0    0 1218    1    0    0    0    1]\n",
      " [   0    0    0    1    0 1187    0    0    0    0]\n",
      " [   0    0    0    0    0    0 1167    2    0    0]\n",
      " [   0    0    0    4    0    0    3 1212    0    0]\n",
      " [   0    0    0    0    0    0    0    0 1186    0]\n",
      " [   0    0    0    0    0    0   10    0    0 1204]]\n"
     ]
    }
   ],
   "source": [
    "cm = confusion_matrix(target, pred)\n",
    "print(cm)"
   ]
  },
  {
   "cell_type": "code",
   "execution_count": 80,
   "metadata": {},
   "outputs": [
    {
     "data": {
      "image/png": "[encoded data removed]",
      "text/plain": [
       "<Figure size 1152x720 with 2 Axes>"
      ]
     },
     "metadata": {
      "needs_background": "light"
     },
     "output_type": "display_data"
    }
   ],
   "source": [
    "#source: https://www.kaggle.com/agungor2/various-confusion-matrix-plots \n",
    "\n",
    "df_cm = pd.DataFrame(cm, columns=np.unique(target), index = np.unique(target))\n",
    "df_cm.index.name = 'Actual'\n",
    "df_cm.columns.name = 'Predicted'\n",
    "plt.figure(figsize = (16,10))\n",
    "sns.set(font_scale=1.4)#for label size\n",
    "sns.heatmap(df_cm, cmap=\"BuPu\", annot=True, fmt='g',annot_kws={\"size\": 16}, vmax=10)# font size\n",
    "plt.show()"
   ]
  },
  {
   "cell_type": "code",
   "execution_count": 76,
   "metadata": {},
   "outputs": [
    {
     "data": {
      "text/plain": [
       "0.9965833333333334"
      ]
     },
     "execution_count": 76,
     "metadata": {},
     "output_type": "execute_result"
    }
   ],
   "source": [
    "accuracy_score(target, pred)"
   ]
  },
  {
   "cell_type": "code",
   "execution_count": 79,
   "metadata": {},
   "outputs": [
    {
     "name": "stdout",
     "output_type": "stream",
     "text": [
      "              precision    recall  f1-score   support\n",
      "\n",
      "           0       1.00      0.99      0.99      1177\n",
      "           1       0.99      1.00      1.00      1218\n",
      "           2       1.00      1.00      1.00      1224\n",
      "           3       1.00      0.99      0.99      1184\n",
      "           4       1.00      1.00      1.00      1221\n",
      "           5       1.00      1.00      1.00      1188\n",
      "           6       0.99      1.00      0.99      1169\n",
      "           7       0.99      0.99      0.99      1219\n",
      "           8       1.00      1.00      1.00      1186\n",
      "           9       1.00      0.99      1.00      1214\n",
      "\n",
      "    accuracy                           1.00     12000\n",
      "   macro avg       1.00      1.00      1.00     12000\n",
      "weighted avg       1.00      1.00      1.00     12000\n",
      "\n"
     ]
    }
   ],
   "source": [
    "print(classification_report(target, pred))"
   ]
  },
  {
   "cell_type": "code",
   "execution_count": 82,
   "metadata": {},
   "outputs": [],
   "source": [
    "submission_pred = model.predict(x_test)"
   ]
  },
  {
   "cell_type": "code",
   "execution_count": 84,
   "metadata": {},
   "outputs": [
    {
     "data": {
      "text/plain": [
       "(5000, 10)"
      ]
     },
     "execution_count": 84,
     "metadata": {},
     "output_type": "execute_result"
    }
   ],
   "source": [
    "submission_pred.shape"
   ]
  },
  {
   "cell_type": "code",
   "execution_count": 86,
   "metadata": {},
   "outputs": [],
   "source": [
    "submission_pred = np.argmax(submission_pred, axis=1)"
   ]
  },
  {
   "cell_type": "code",
   "execution_count": 97,
   "metadata": {},
   "outputs": [],
   "source": [
    "df_submission = pd.DataFrame({'id': np.arange(0,submission_pred.shape[0]),\n",
    "                             'label':submission_pred})"
   ]
  },
  {
   "cell_type": "code",
   "execution_count": 99,
   "metadata": {},
   "outputs": [
    {
     "data": {
      "text/html": [
       "<div>\n",
       "<style scoped>\n",
       "    .dataframe tbody tr th:only-of-type {\n",
       "        vertical-align: middle;\n",
       "    }\n",
       "\n",
       "    .dataframe tbody tr th {\n",
       "        vertical-align: top;\n",
       "    }\n",
       "\n",
       "    .dataframe thead th {\n",
       "        text-align: right;\n",
       "    }\n",
       "</style>\n",
       "<table border=\"1\" class=\"dataframe\">\n",
       "  <thead>\n",
       "    <tr style=\"text-align: right;\">\n",
       "      <th></th>\n",
       "      <th>id</th>\n",
       "      <th>label</th>\n",
       "    </tr>\n",
       "  </thead>\n",
       "  <tbody>\n",
       "    <tr>\n",
       "      <th>0</th>\n",
       "      <td>0</td>\n",
       "      <td>3</td>\n",
       "    </tr>\n",
       "    <tr>\n",
       "      <th>1</th>\n",
       "      <td>1</td>\n",
       "      <td>0</td>\n",
       "    </tr>\n",
       "    <tr>\n",
       "      <th>2</th>\n",
       "      <td>2</td>\n",
       "      <td>2</td>\n",
       "    </tr>\n",
       "    <tr>\n",
       "      <th>3</th>\n",
       "      <td>3</td>\n",
       "      <td>6</td>\n",
       "    </tr>\n",
       "    <tr>\n",
       "      <th>4</th>\n",
       "      <td>4</td>\n",
       "      <td>7</td>\n",
       "    </tr>\n",
       "    <tr>\n",
       "      <th>5</th>\n",
       "      <td>5</td>\n",
       "      <td>7</td>\n",
       "    </tr>\n",
       "    <tr>\n",
       "      <th>6</th>\n",
       "      <td>6</td>\n",
       "      <td>1</td>\n",
       "    </tr>\n",
       "    <tr>\n",
       "      <th>7</th>\n",
       "      <td>7</td>\n",
       "      <td>9</td>\n",
       "    </tr>\n",
       "    <tr>\n",
       "      <th>8</th>\n",
       "      <td>8</td>\n",
       "      <td>3</td>\n",
       "    </tr>\n",
       "    <tr>\n",
       "      <th>9</th>\n",
       "      <td>9</td>\n",
       "      <td>4</td>\n",
       "    </tr>\n",
       "  </tbody>\n",
       "</table>\n",
       "</div>"
      ],
      "text/plain": [
       "   id  label\n",
       "0   0      3\n",
       "1   1      0\n",
       "2   2      2\n",
       "3   3      6\n",
       "4   4      7\n",
       "5   5      7\n",
       "6   6      1\n",
       "7   7      9\n",
       "8   8      3\n",
       "9   9      4"
      ]
     },
     "execution_count": 99,
     "metadata": {},
     "output_type": "execute_result"
    }
   ],
   "source": [
    "df_submission.head(10)"
   ]
  },
  {
   "cell_type": "code",
   "execution_count": 101,
   "metadata": {},
   "outputs": [],
   "source": [
    "df_submission.to_csv('../data/submission.csv',index=False)"
   ]
  },
  {
   "cell_type": "code",
   "execution_count": null,
   "metadata": {},
   "outputs": [],
   "source": []
  }
 ],
 "metadata": {
  "kernelspec": {
   "display_name": "Python 3",
   "language": "python",
   "name": "python3"
  },
  "language_info": {
   "codemirror_mode": {
    "name": "ipython",
    "version": 3
   },
   "file_extension": ".py",
   "mimetype": "text/x-python",
   "name": "python",
   "nbconvert_exporter": "python",
   "pygments_lexer": "ipython3",
   "version": "3.7.3"
  }
 },
 "nbformat": 4,
 "nbformat_minor": 2
}
